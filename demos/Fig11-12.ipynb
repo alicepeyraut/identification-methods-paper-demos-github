{
 "cells": [
  {
   "attachments": {},
   "cell_type": "markdown",
   "metadata": {},
   "source": [
    "# Figure 11 and 12"
   ]
  },
  {
   "attachments": {},
   "cell_type": "markdown",
   "metadata": {},
   "source": [
    "## Imports"
   ]
  },
  {
   "cell_type": "code",
   "execution_count": null,
   "metadata": {},
   "outputs": [],
   "source": [
    "import matplotlib.pyplot as plt\n",
    "import numpy\n",
    "import os\n",
    "import dolfin\n",
    "\n",
    "import dolfin_warp as dwarp\n",
    "import dolfin_estim as destim\n",
    "\n",
    "from generate_images import generate_images_and_meshes_from_RivlinCube\n",
    "\n",
    "### disable deprecation warning to avoid heavy output\n",
    "import warnings\n",
    "from ffc.quadrature.deprecation import QuadratureRepresentationDeprecationWarning\n",
    "warnings.simplefilter(\"ignore\", QuadratureRepresentationDeprecationWarning)"
   ]
  },
  {
   "cell_type": "markdown",
   "metadata": {},
   "source": [
    "## Parameters\n"
   ]
  },
  {
   "cell_type": "markdown",
   "metadata": {},
   "source": [
    "### Geometry"
   ]
  },
  {
   "cell_type": "code",
   "execution_count": null,
   "metadata": {},
   "outputs": [],
   "source": [
    "### Geometry\n",
    "dim = 2 ### the geometry studied is a square\n",
    "cube_params = {\"X0\":0.2, \"Y0\":0.2, \"X1\":0.8, \"Y1\":0.8, \"l\":0.1} ### l: mesh size, in mm, by default 0.1, X0, Y0, X1, Y1 correspond to the min and max x and y coordinates of the square \n",
    "\n",
    "### mesh sizes investigated\n",
    "mesh_size = 0.1 ## in mm"
   ]
  },
  {
   "cell_type": "markdown",
   "metadata": {},
   "source": [
    "### Loading and boundary conditions"
   ]
  },
  {
   "cell_type": "code",
   "execution_count": null,
   "metadata": {},
   "outputs": [],
   "source": [
    "### Loading parameters \n",
    "const_params = {\"type\":\"blox\"} ### defining load and boundary conditions: here, the square is clamped on the left x boundary\n",
    "load_params_body = {\"type\":\"volu\", \"f\":0.3}  ### a volume force of 0.3 mN/mm3 is applied on the cube\n",
    "\n",
    "### volume test\n",
    "deformation_type_lst = [\"grav\"]\n"
   ]
  },
  {
   "cell_type": "markdown",
   "metadata": {},
   "source": [
    "### Material behavior"
   ]
  },
  {
   "cell_type": "code",
   "execution_count": null,
   "metadata": {},
   "outputs": [],
   "source": [
    "### Material\n",
    "\n",
    "nu_ref = 0.3 ### defining ground-truth value of Poisson ratio [-]\n",
    "b_ref = 0.3 ### defining ground-truth value of the volume regularization term, in mN/mm3\n",
    "E_ref = 1 ### kPa, Young's modulus\n",
    "\n",
    "mat_params = {\"model\":\"CGNH\", \"parameters\":{\"E\":E_ref, \"nu\":nu_ref}} ### defining material constants for estimation\n"
   ]
  },
  {
   "cell_type": "markdown",
   "metadata": {},
   "source": [
    "### Images"
   ]
  },
  {
   "cell_type": "code",
   "execution_count": null,
   "metadata": {},
   "outputs": [],
   "source": [
    "### Noises levels \n",
    "noise_level_lst  = [   ]\n",
    "noise_level_lst += [0.3]\n",
    "noise_level_lst += [0.2]\n",
    "noise_level_lst += [0.1]\n",
    "noise_level_lst += [0.0]\n",
    "\n",
    "### Images parameters\n",
    "n_runs_for_noisy_images = 10 ### number of images generated for a given noise levels; for a same noise level, and for convergence of the estimation, different images are created since the noise added to the images is a random Gaussian field\n",
    "n_voxels = 100\n",
    "\n",
    "### volume regularization constants\n",
    "regul_b_lst  = []\n",
    "regul_b_lst += [0.0]\n",
    "regul_b_lst += [0.24]\n",
    "regul_b_lst += [0.27]\n",
    "regul_b_lst += [0.3]\n",
    "regul_b_lst += [0.33]\n",
    "regul_b_lst += [0.36]\n",
    "\n",
    "### regularization levels\n",
    "regul_level_lst  = [        ]\n",
    "regul_level_lst += [0.1*2**1] # 0.2\n",
    "regul_level_lst += [0.1     ] # 0.1\n",
    "regul_level_lst += [0.1/2**1] # 0.05\n",
    "regul_level_lst += [0.] # 0.0\n",
    "\n",
    "### name and folder creation\n",
    "images_folder = \"generate_images\"\n",
    "if not os.path.exists(images_folder): ### checking if folder already exists\n",
    "    os.mkdir(images_folder)"
   ]
  },
  {
   "cell_type": "markdown",
   "metadata": {},
   "source": [
    "### Bias"
   ]
  },
  {
   "cell_type": "code",
   "execution_count": null,
   "metadata": {},
   "outputs": [],
   "source": [
    "bias_lst = [0.8, 0.9, 1., 1.1, 1.2] ### studying the impact of an error of -20, -10, 0, 10, and 20 % on a model parameter on the estimation\n",
    "bias_param_lst = ['nu', 'b'] ### studying model errors on the Poisson ratio and on the regularization b"
   ]
  },
  {
   "cell_type": "markdown",
   "metadata": {},
   "source": [
    "## Synthetic measurements"
   ]
  },
  {
   "cell_type": "markdown",
   "metadata": {},
   "source": [
    "### Synthetic images"
   ]
  },
  {
   "cell_type": "code",
   "execution_count": null,
   "metadata": {},
   "outputs": [],
   "source": [
    "for deformation_type in deformation_type_lst:\n",
    "    generate_images_and_meshes_from_RivlinCube( ### creating fine mesh for image computation\n",
    "        images_n_dim = dim,\n",
    "        images_n_voxels = n_voxels,\n",
    "        deformation_type = deformation_type,\n",
    "        texture_type = \"no\",\n",
    "        noise_level = 0,\n",
    "        run_model = 1,\n",
    "        generate_images = 0)\n",
    "    for noise_level  in noise_level_lst :\n",
    "        n_runs = n_runs_for_noisy_images if (noise_level > 0) else 1\n",
    "        for k_run in range(1, n_runs+1):\n",
    "            generate_images_and_meshes_from_RivlinCube(\n",
    "                images_n_dim = dim,\n",
    "                images_n_voxels = n_voxels,\n",
    "                deformation_type = deformation_type,\n",
    "                texture_type = \"tagging\",\n",
    "                noise_level = noise_level,\n",
    "                k_run = k_run if (n_runs > 1) else None,\n",
    "                run_model = 0,\n",
    "                generate_images = 1)"
   ]
  },
  {
   "cell_type": "markdown",
   "metadata": {},
   "source": [
    "### Ground-truth motion"
   ]
  },
  {
   "cell_type": "code",
   "execution_count": null,
   "metadata": {},
   "outputs": [],
   "source": [
    "for deformation_type in deformation_type_lst:\n",
    "    generate_images_and_meshes_from_RivlinCube(### ground truth motion + meshes\n",
    "            images_n_dim = dim,\n",
    "            images_n_voxels = 1,\n",
    "            mesh_size = mesh_size,\n",
    "            deformation_type = deformation_type,\n",
    "            texture_type = \"no\",\n",
    "            noise_level = 0,\n",
    "            run_model = 1,\n",
    "            generate_images = 0)"
   ]
  },
  {
   "cell_type": "markdown",
   "metadata": {},
   "source": [
    "### Tracking"
   ]
  },
  {
   "cell_type": "code",
   "execution_count": null,
   "metadata": {},
   "outputs": [],
   "source": [
    "for deformation_type in deformation_type_lst:\n",
    "    for noise_level in noise_level_lst:\n",
    "        n_runs = n_runs_for_noisy_images if (noise_level > 0) else 1 ### if no noise, there is no need for different samples; for noise levels higher than 0, a Gaussian noise id generated; there is hence the need for different samples, as randomness is introduced\n",
    "        for k_run in range(1, n_runs+1):\n",
    "            for regul_b in regul_b_lst:\n",
    "                for regul_level in regul_level_lst:\n",
    "                    regul_type = \"discrete-equilibrated-tractions-normal-tangential\"\n",
    "                    working_folder = \"run_warp_grav\"\n",
    "\n",
    "                    #### getting files and folder names\n",
    "                    images_basename = \"square\"\n",
    "                    images_basename += \"-\"+deformation_type\n",
    "                    images_basename += \"-tagging\"\n",
    "                    images_basename += \"-noise=\"+str(noise_level)\n",
    "                    if (n_runs > 1):\n",
    "                        images_basename += \"-run=\"+str(k_run).zfill(2)\n",
    "                    mesh_basename = \"square\"\n",
    "                    mesh_basename += \"-\"+deformation_type\n",
    "                    mesh_basename += \"-h=\"+str(mesh_size)\n",
    "                    mesh_basename += \"-mesh\"\n",
    "                    working_basename = images_basename\n",
    "                    working_basename += \"-h=\"+str(mesh_size)\n",
    "                    working_basename += \"-\"+regul_type\n",
    "                    working_basename += \"-regul=\"+str(regul_level)\n",
    "                    working_basename += \"-b=\"+str(regul_b)\n",
    "\n",
    "                    meshes = [dolfin.Mesh(images_folder+\"/\"+mesh_basename+\"coarse.xml\"), dolfin.Mesh(images_folder+\"/\"+mesh_basename+\"refined.xml\")]\n",
    "                    regul_surface_subdomain = []\n",
    "                    regul_surface_subdomain_id = []\n",
    "                    for mesh in meshes:\n",
    "                        regul_surface_subdomain_ = dolfin.MeshFunction(\"size_t\", mesh, mesh.topology().dim()-1)\n",
    "                        regul_surface_subdomain_.set_all(1)\n",
    "                        xmin_sd = dolfin.CompiledSubDomain(\"near(x[0], x0) && on_boundary\", x0 = 0.2)\n",
    "                        xmin_sd.mark(regul_surface_subdomain_, 0)\n",
    "                        regul_surface_subdomain.append(regul_surface_subdomain_)\n",
    "                        regul_surface_subdomain_id.append(1)\n",
    "\n",
    "                    refinement_levels = [0,1]\n",
    "                    dwarp.warp_and_refine(\n",
    "                        working_folder = working_folder,\n",
    "                        working_basename = working_basename,\n",
    "                        images_folder = images_folder,\n",
    "                        images_basename = images_basename,\n",
    "                        meshes = meshes,\n",
    "                        regul_type = regul_type,\n",
    "                        regul_model = \"ciarletgeymonatneohookean\",\n",
    "                        regul_level = regul_level,\n",
    "                        regul_poisson = 0.3,\n",
    "                        regul_b = [regul_b]+[0.]*(dim-1),\n",
    "                        regul_surface_subdomain_data = regul_surface_subdomain,\n",
    "                        regul_surface_subdomain_id = regul_surface_subdomain_id,\n",
    "                        relax_type = \"backtracking\",\n",
    "                        tol_dU = 1e-2,\n",
    "                        n_iter_max = 100,\n",
    "                        normalize_energies = 1,\n",
    "                        refinement_levels = refinement_levels,\n",
    "                        silent = True) "
   ]
  },
  {
   "cell_type": "markdown",
   "metadata": {},
   "source": [
    "## Generating plots"
   ]
  },
  {
   "cell_type": "markdown",
   "metadata": {},
   "source": [
    "### Helpers"
   ]
  },
  {
   "cell_type": "code",
   "execution_count": null,
   "metadata": {},
   "outputs": [],
   "source": [
    "SNR_lst = [] ### defining SNRs -- Signal-to-Noise ratios--\n",
    "for noise in noise_level_lst:\n",
    "    if noise == 0.:\n",
    "        SNR_lst.append(40.) ### setting the SNR arbitrarily when should be +∞\n",
    "    else:\n",
    "        SNR_lst.append(1/noise)"
   ]
  },
  {
   "cell_type": "code",
   "execution_count": null,
   "metadata": {},
   "outputs": [],
   "source": [
    "def writing_results_to_pdf(mesh_size = 0.1, SNR_lst = [], results_all = {}, noise_from_images = True, regul = \"\", bias_lst = [], bias_param = \"\", method = \"EGM\"):\n",
    "\n",
    "    ### plotting parameters\n",
    "    fig, ax = plt.subplots()\n",
    "    plt.rc(\"xtick\", labelsize = 16)\n",
    "    plt.rc(\"ytick\", labelsize = 16)\n",
    "    plt.rc(\"legend\", fontsize = 12)\n",
    "    plt.ylim([-100, 100])\n",
    "    if bias_param == \"nu\":\n",
    "        bias_param = r'$\\nu_{truth}$'\n",
    "        param_math = r'$\\nu_{estim}$'\n",
    "    else:\n",
    "        param_math = bias_param+\"$_{regul}$\"\n",
    "        bias_param = bias_param+\"$_{truth}$\"\n",
    "        \n",
    "\n",
    "    plt.xlabel(\"Signal to Noise Ratio (SNR)\", fontsize = 12)\n",
    "    plt.ylabel(\"Estimation error (%)\", fontsize = 12)\n",
    "    color_lst = ['firebrick', 'orange', 'lawngreen', 'deepskyblue', 'orchid']\n",
    "\n",
    "    for bias in bias_lst:\n",
    "        plt.plot(SNR_lst, results_all[str(bias)][\"E_average\"], color = color_lst[0], label = param_math+\" = \"+str(bias)+bias_param)\n",
    "        plt.xlim([3.3, 20.])\n",
    "        ax.fill_between(SNR_lst, results_all[str(bias)][\"E_+\"], results_all[str(bias)][\"E_-\"], alpha = 0.5, color = color_lst[0])\n",
    "        plt.gca().set_xscale('log')\n",
    "        color_lst = color_lst[1:]\n",
    "\n",
    "\n",
    "    ax.set_xticks([])\n",
    "    ax.set_xticks([], minor = True)\n",
    "    plt.xticks(SNR_lst, [3.3, 5, 10, '$\\infty$'])\n",
    "\n",
    "\n",
    "    plt.legend(loc = \"upper right\", fontsize = 13, ncol = 2)\n",
    "    plt.grid()\n",
    "    plt.savefig(\"./model_error_for_error_on\"+str(bias_param)+\"with_method = \"+str(method)+str(mesh_size)+\"-noise_from_images = \"+str(noise_from_images)+\"regul = \"+str(regul)+\".pdf\", bbox_inches = 'tight')\n",
    "    plt.show()"
   ]
  },
  {
   "cell_type": "code",
   "execution_count": null,
   "metadata": {},
   "outputs": [],
   "source": [
    "def run_noise_on_images(method_lst = [], load_type = \"body_force\", load_params = {}, mesh_size = 0.1, cube_params = {}, refine = 0, SNR_lst = [], noise_level_lst = [], bias_param = \"\", bias_lst = [], noise_from_images = True, regul_number = 0.3):\n",
    "    results_all = {}\n",
    "    for method in method_lst:\n",
    "        for bias in bias_lst:\n",
    "            results_std = {}\n",
    "            results = {}\n",
    "            noise_results = []\n",
    "            E_average, E_plus, E_minus = [], [], []\n",
    "            E_all = []\n",
    "            nu_biased = nu_ref\n",
    "            if bias_param == \"nu\":\n",
    "                nu_biased = bias*nu_ref\n",
    "            elif bias_param == \"b\":\n",
    "                regul_number = bias*b_ref\n",
    "            for noise in noise_level_lst:\n",
    "                E_results = []\n",
    "                for i in range(1, 11):\n",
    "                    run = str(i).zfill(2)\n",
    "                    noise_results.append(noise)\n",
    "                    E = destim.identifying_parameter(method = method, nu = nu_biased, delta = 5*0.6, load_type = load_type, load_params = load_params, mesh_size = mesh_size, cube_params = cube_params, refine = refine, noise_from_images = noise_from_images, noise = noise, regul = 0.2, regul_number = regul_number, run = run)\n",
    "                    E_error = (E-E_ref)/(E_ref)*100\n",
    "                    E_all.append(E_error)\n",
    "                    E_results.append(E_error)\n",
    "                E_average.append(numpy.average(E_results))\n",
    "                E_plus.append(numpy.average(E_results)+numpy.std(E_results))\n",
    "                E_minus.append(numpy.average(E_results)-numpy.std(E_results))\n",
    "                results_std[\"noise\"] = noise_level_lst\n",
    "                results_std[\"E_+\"] = E_plus\n",
    "                results_std[\"E_-\"] = E_minus\n",
    "                results_std[\"E_average\"] = E_average\n",
    "                results[\"noise\"] = noise_results\n",
    "                results[\"E\"] = E_all\n",
    "                results_all[str(bias)] = results_std\n",
    "        writing_results_to_pdf(mesh_size = mesh_size, SNR_lst = SNR_lst, results_all = results_all, noise_from_images = True, method = method, regul = 0.2, bias_lst = bias_lst, bias_param = bias_param)"
   ]
  },
  {
   "cell_type": "markdown",
   "metadata": {},
   "source": [
    "### Plots"
   ]
  },
  {
   "cell_type": "code",
   "execution_count": null,
   "metadata": {},
   "outputs": [],
   "source": [
    "method_lst = [\"EGM\", \"VFM\", \"VFM_deng\", \"FEMU\"]\n",
    "\n",
    "results_all = {}\n",
    "\n",
    "for bias_param in bias_param_lst:\n",
    "    run_noise_on_images(method_lst = method_lst, load_type = \"body_force\", load_params = load_params_body, mesh_size = mesh_size, cube_params = cube_params, refine = False, SNR_lst = SNR_lst, bias_param = bias_param, bias_lst = bias_lst, noise_level_lst = noise_level_lst, noise_from_images = True, regul_number = b_ref)"
   ]
  }
 ],
 "metadata": {
  "kernelspec": {
   "display_name": "all",
   "language": "python",
   "name": "python3"
  },
  "language_info": {
   "codemirror_mode": {
    "name": "ipython",
    "version": 3
   },
   "file_extension": ".py",
   "mimetype": "text/x-python",
   "name": "python",
   "nbconvert_exporter": "python",
   "pygments_lexer": "ipython3",
   "version": "3.9.18"
  },
  "orig_nbformat": 4
 },
 "nbformat": 4,
 "nbformat_minor": 2
}
