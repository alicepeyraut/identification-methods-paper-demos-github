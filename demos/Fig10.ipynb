{
 "cells": [
  {
   "attachments": {},
   "cell_type": "markdown",
   "metadata": {},
   "source": [
    "# Figure 10"
   ]
  },
  {
   "attachments": {},
   "cell_type": "markdown",
   "metadata": {},
   "source": [
    "## Imports"
   ]
  },
  {
   "cell_type": "code",
   "execution_count": null,
   "metadata": {},
   "outputs": [],
   "source": [
    "import matplotlib\n",
    "import matplotlib.pyplot as plt\n",
    "import numpy\n",
    "\n",
    "import dolfin_estim as destim\n",
    "import dolfin_mech as dmech\n",
    "\n",
    "### disable deprecation warning to avoid heavy output\n",
    "import warnings\n",
    "from ffc.quadrature.deprecation import QuadratureRepresentationDeprecationWarning\n",
    "warnings.simplefilter(\"ignore\", QuadratureRepresentationDeprecationWarning)"
   ]
  },
  {
   "attachments": {},
   "cell_type": "markdown",
   "metadata": {},
   "source": [
    "## Parameters"
   ]
  },
  {
   "cell_type": "markdown",
   "metadata": {},
   "source": [
    "### Geometry and varying parameters"
   ]
  },
  {
   "cell_type": "code",
   "execution_count": null,
   "metadata": {},
   "outputs": [],
   "source": [
    "mesh_size = 0.1 ### mesh size for the resolution\n",
    "l = 0.6 ### characteristic length of the cube\n",
    "delta_lst = [1000, 10, 5, 2.5, 1.7, 1.1, 0.9, 0.099] ### list of wave lengths chosen \n",
    "noise_lst = [0.0, 0.01, 0.05, 0.1] ### noise levels chosen"
   ]
  },
  {
   "attachments": {},
   "cell_type": "markdown",
   "metadata": {},
   "source": [
    "### Material behavior"
   ]
  },
  {
   "cell_type": "code",
   "execution_count": null,
   "metadata": {},
   "outputs": [],
   "source": [
    "params = {\n",
    "    \"E\":1.,        # kPa\n",
    "    \"nu\":0.3}      # [-]\n",
    "mat_params = {\"model\":\"CGNH\", \"parameters\":params} ### hyperelastic law"
   ]
  },
  {
   "attachments": {},
   "cell_type": "markdown",
   "metadata": {},
   "source": [
    "### Loading"
   ]
  },
  {
   "cell_type": "code",
   "execution_count": null,
   "metadata": {},
   "outputs": [],
   "source": [
    "load_params_boundary = {\"type\":\"pres\", \"f\":0.3} ### studied in the case of a boundary force, f = 3 kPa"
   ]
  },
  {
   "attachments": {},
   "cell_type": "markdown",
   "metadata": {},
   "source": [
    "## Generating plots"
   ]
  },
  {
   "attachments": {},
   "cell_type": "markdown",
   "metadata": {},
   "source": [
    "### Helpers"
   ]
  },
  {
   "cell_type": "code",
   "execution_count": null,
   "metadata": {},
   "outputs": [],
   "source": [
    "cube_params = {\"X0\":0.2, \"Y0\":0.2, \"X1\":0.8, \"Y1\":0.8, \"l\":0.01} # exact solution --without noise-- computed on a very fine mesh for better resolution, computed here and not in dolfin_estim in order to avoid heavy computations\n",
    "\n",
    "u, v = dmech.run_RivlinCube_Hyperelasticity(\n",
    "    dim          = 2,\n",
    "    cube_params  = cube_params,\n",
    "    mat_params   = mat_params,\n",
    "    step_params  = {\"dt_ini\":1/20},\n",
    "    const_params = {\"type\":\"blox\"},\n",
    "    load_params  = load_params_boundary,\n",
    "    get_results  = 1,\n",
    "    res_basename = \"./\")"
   ]
  },
  {
   "cell_type": "code",
   "execution_count": null,
   "metadata": {},
   "outputs": [],
   "source": [
    "SNR_lst = [] ### defining SNRs -- Signal-to-Noise ratios--\n",
    "for noise in noise_lst:\n",
    "    if noise == 0.:\n",
    "        SNR_lst.append(40.) ### setting the SNR arbitrarily when should be +∞\n",
    "    else:\n",
    "        SNR_lst.append(1/noise)"
   ]
  },
  {
   "cell_type": "code",
   "execution_count": null,
   "metadata": {},
   "outputs": [],
   "source": [
    "def writing_results_to_pdf(results_all = [], delta_lst = [], SNR_lst = []): ### function to write results --boxplots--\n",
    "    \n",
    "    fig, ax = plt.subplots()\n",
    "    ### plotting parameters\n",
    "    plt.rc(\"xtick\", labelsize = 20)\n",
    "    plt.rc(\"ytick\", labelsize = 20)\n",
    "    plt.rc(\"legend\", fontsize = 12)\n",
    "    plt.xlabel(\"Signal to Noise Ratio (SNR)\", fontsize = 12)\n",
    "    plt.ylabel(\"Estimation error (%)\", fontsize = 12)\n",
    "    fig.set_size_inches(10, 6)\n",
    "    plt.grid()\n",
    "    plt.xlim([5, 2000.])\n",
    "    plt.ylim([-100, 100.])\n",
    "\n",
    "    nb_deltas = len(delta_lst)\n",
    "    spacing = numpy.linspace(-0.0305*(nb_deltas//2), 0.0305*(nb_deltas//2), nb_deltas) ### spacing between the different boxplots\n",
    "    color_lst = matplotlib.cm.viridis(numpy.linspace(0, 1, len(delta_lst))) #### colors in the viridis scale\n",
    "\n",
    "    count_spacing = 0\n",
    "    for delta in delta_lst:\n",
    "        results_delta = results_all[str(delta_lst[count_spacing])] ### getting results for each value of delta, stored into the dictionary \"results_delta\"\n",
    "        down_up_lst = [[abs(results_delta[\"E_-\"][i]-results_delta[\"E_average\"][i])for i in range(len(results_delta[\"noise\"]))], [abs(results_delta[\"E_+\"][i]-results_delta[\"E_average\"][i]) for i in range(len(results_delta[\"noise\"]))]] #### to create y-error bars, defining up and down whisker\n",
    "        mean_lst = [results_delta[\"E_average\"][i] for i in range(len(results_delta[\"noise\"]))]\n",
    "        SNR_lst_scaled = [SNR_lst[i]*numpy.exp((spacing[count_spacing]))**numpy.log(10) for i in range(len(SNR_lst))] ### to include spacing, that will remain even with the log scale\n",
    "        plt.errorbar(SNR_lst_scaled, mean_lst, yerr = down_up_lst, capsize = 4, fmt = \"s\", ecolor = color_lst[-1], markeredgecolor = color_lst[-1], markerfacecolor = color_lst[-1], label = r'$\\Delta$'+\"  = \" +'{0:.1f}'.format(delta)+\"l\")\n",
    "        plt.gca().set_xscale('log') ### plotting y-error bars\n",
    "        color_lst = color_lst[:-1] ### different color for each error bar\n",
    "        count_spacing+= 1\n",
    "    ax.set_xticks([])\n",
    "    ax.set_xticks([], minor = True)\n",
    "    plt.xticks(SNR_lst, ['$\\infty$', 100, 20, 10]) \n",
    "    plt.legend(loc = \"upper right\", fontsize = 13, ncol = 2)\n",
    "\n",
    "    plt.savefig(\"./different_values_beta_VFM_plane_waves.pdf\", bbox_inches = 'tight')\n",
    "    plt.show()"
   ]
  },
  {
   "cell_type": "markdown",
   "metadata": {},
   "source": [
    "### Plots"
   ]
  },
  {
   "cell_type": "code",
   "execution_count": null,
   "metadata": {},
   "outputs": [],
   "source": [
    "results_all = {}\n",
    "for delta in delta_lst: ### for each value of the period\n",
    "    ### creating arrays and lists to store results\n",
    "    results_std = {}\n",
    "    results = {}\n",
    "    noise_results = []\n",
    "    E_all = []\n",
    "    results_std[\"noise\"] = noise_lst\n",
    "    E_average, E_plus, E_minus = [], [], []\n",
    "    for noise in noise_lst:\n",
    "        E_results = []\n",
    "        for i in range(1, 50): #### many iterations for convergence of the distribution\n",
    "            noise_results.append(noise)\n",
    "            E = destim.identifying_parameter(method = \"VFM\", delta = delta*l, load_type = \"boundary_force\", load_params = load_params_boundary, mesh_size = mesh_size, cube_params = cube_params, refine = False, noise_from_images = False, noise = noise,  u_params = {\"u\":u, \"v\":v}) #  this computation was only conducted for a boundary force test, without refining the mesh, and with synthetic data generated by adding noise to displacements\n",
    "            E_error = (E-1)*100 ### computing the error compared to the ground truth, i.e., E = 1 kPa\n",
    "            E_all.append(E_error)\n",
    "            E_results.append(E_error)\n",
    "        E_average.append(numpy.average(E_results))\n",
    "        E_plus.append(numpy.average(E_results)+numpy.std(E_results))\n",
    "        E_minus.append(numpy.average(E_results)-numpy.std(E_results))\n",
    "    results_std[\"E_+\"] = E_plus\n",
    "    results_std[\"E_-\"] = E_minus\n",
    "    results_std[\"E_average\"] = E_average\n",
    "    results_all[str(delta)] = results_std\n",
    "    results[\"noise\"] = noise_results\n",
    "    results[\"E\"] = E_all\n",
    "writing_results_to_pdf(results_all = results_all, delta_lst = delta_lst, SNR_lst = SNR_lst)"
   ]
  }
 ],
 "metadata": {
  "kernelspec": {
   "display_name": "all",
   "language": "python",
   "name": "python3"
  },
  "language_info": {
   "codemirror_mode": {
    "name": "ipython",
    "version": 3
   },
   "file_extension": ".py",
   "mimetype": "text/x-python",
   "name": "python",
   "nbconvert_exporter": "python",
   "pygments_lexer": "ipython3",
   "version": "3.9.18"
  },
  "orig_nbformat": 4
 },
 "nbformat": 4,
 "nbformat_minor": 2
}
